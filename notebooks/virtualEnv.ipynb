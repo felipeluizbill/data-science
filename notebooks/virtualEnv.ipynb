{
 "cells": [
  {
   "attachments": {},
   "cell_type": "markdown",
   "metadata": {},
   "source": [
    "Para gerenciar as depedências do projeto e garantir as mesmas versões de diferentes bibliotecas em ambientes diferentes, é necessário usar o virtualenv\n",
    "\n",
    "pip install virtualenv\n",
    "\n",
    "Na pasta do projeto, deve-se executar o comando\n",
    "\n",
    "virtualenv {nome do ambiente virtual}\n",
    "\n",
    "Em seguida:\n",
    "\n",
    "venv\\Scripts\\activate\n",
    "\n",
    "Para sair do ambiente virutal:\n",
    "\n",
    "venv\\Scritps\\deactivate\n",
    "\n",
    "Dentro do ambiente vritual, basta adicionar as dependências uma-a-uma\n",
    "Por fim, o venv vai gerar um arquivo chamado requirements.txt\n",
    "\n",
    "Para instalar uma versão específica de uma lib\n",
    "\n",
    "pip install {nome da lib}=={versão}\n",
    "\n",
    "Para exportar o arquivo de dependências\n",
    "\n",
    "pip freeze > requirements.txt\n",
    "deactivate\n",
    "virtualenv novoenv\n",
    "novoenv\\Scripts\\activate\n",
    "pip install -r requirements.txt\n",
    "\n",
    "Para recriar o ambiente"
   ]
  },
  {
   "attachments": {},
   "cell_type": "markdown",
   "metadata": {},
   "source": [
    "# cookie cutter\n",
    "\n",
    "pip install cookiecutter\n",
    "\n"
   ]
  }
 ],
 "metadata": {
  "language_info": {
   "name": "python"
  },
  "orig_nbformat": 4
 },
 "nbformat": 4,
 "nbformat_minor": 2
}
